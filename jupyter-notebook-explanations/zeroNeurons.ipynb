{
 "cells": [
  {
   "cell_type": "code",
   "execution_count": 1,
   "metadata": {},
   "outputs": [],
   "source": [
    "import torch\n",
    "import torch.nn as nn\n",
    "from getModelLayers import getModelLayers\n",
    "from zeroNeurons import zeroListOfWeightIndexes\n",
    "import pprint\n",
    "\n",
    "############################################################################################################\n",
    "# Parameters:\n",
    "#           inputDepth: This is the number of channels of the input image -- usually 3 for RGB\n",
    "#           outputDepth: This is the number of channels coming out of the layer -- # of filters to apply\n",
    "#           kernel_size: width / height of the kernal (filter)\n",
    "class ConvNet(nn.Module):   \n",
    "    def __init__(self, inputDepth, outputDepth, kernal_size=3):\n",
    "        super(ConvNet, self).__init__()\n",
    "        \n",
    "        #A single convolutional layer\n",
    "        self.conv1 = nn.Conv2d(inputDepth, outputDepth, kernel_size=kernal_size, stride=1, padding=0)\n",
    "        self.conv2 = nn.Conv2d(outputDepth, 3, kernel_size=kernal_size, stride=1, padding=0)\n",
    "        self.fc1 = nn.Linear(3, 5)\n",
    "    \n",
    "    def forward(self, x):\n",
    "        out = self.conv1(x)\n",
    "        out = self.conv2(out)\n",
    "        out = self.fc1(out)\n",
    "        return out"
   ]
  },
  {
   "cell_type": "code",
   "execution_count": 2,
   "metadata": {},
   "outputs": [],
   "source": [
    "#build simple net for example\n",
    "net = ConvNet(2, 3)"
   ]
  },
  {
   "cell_type": "code",
   "execution_count": 3,
   "metadata": {},
   "outputs": [],
   "source": [
    "#get model layers from the net -- explanation of getModelLayers shown in jupyter notebook\n",
    "modelLayers = getModelLayers(net)"
   ]
  },
  {
   "cell_type": "code",
   "execution_count": 4,
   "metadata": {},
   "outputs": [
    {
     "name": "stdout",
     "output_type": "stream",
     "text": [
      "'fc1.'\n",
      "tensor([[-0.2783,  0.1814,  0.3337],\n",
      "        [-0.1827, -0.0180,  0.4286],\n",
      "        [ 0.1115,  0.4619,  0.5342],\n",
      "        [-0.0391,  0.4177, -0.0002],\n",
      "        [-0.5444, -0.4661,  0.1054]])\n",
      "'conv2.'\n",
      "tensor([[[[-0.1251,  0.0325, -0.1703],\n",
      "          [ 0.0776,  0.1805,  0.0667],\n",
      "          [ 0.1283,  0.0691, -0.0795]],\n",
      "\n",
      "         [[ 0.1414,  0.0113, -0.1564],\n",
      "          [-0.0362, -0.0654,  0.0819],\n",
      "          [ 0.0916, -0.0293, -0.1694]],\n",
      "\n",
      "         [[ 0.1717,  0.1550,  0.1574],\n",
      "          [ 0.0924, -0.0468, -0.0536],\n",
      "          [-0.0044, -0.1746, -0.1273]]],\n",
      "\n",
      "\n",
      "        [[[-0.0349,  0.1280, -0.0564],\n",
      "          [-0.0819, -0.1004, -0.1507],\n",
      "          [ 0.0978, -0.0295,  0.0300]],\n",
      "\n",
      "         [[-0.1072,  0.1618, -0.0691],\n",
      "          [ 0.0915, -0.1536, -0.0207],\n",
      "          [-0.0039,  0.0772,  0.1916]],\n",
      "\n",
      "         [[-0.1189,  0.1401,  0.0023],\n",
      "          [-0.1567, -0.1208,  0.1123],\n",
      "          [-0.0892, -0.1825, -0.1088]]],\n",
      "\n",
      "\n",
      "        [[[-0.0468, -0.0861,  0.0102],\n",
      "          [-0.0462, -0.0806, -0.1860],\n",
      "          [ 0.0509,  0.1122, -0.1590]],\n",
      "\n",
      "         [[-0.1913, -0.1604,  0.0631],\n",
      "          [ 0.1164, -0.1830,  0.1858],\n",
      "          [-0.0412,  0.1660,  0.1185]],\n",
      "\n",
      "         [[-0.1274, -0.0920, -0.0162],\n",
      "          [ 0.1531,  0.0456,  0.1901],\n",
      "          [ 0.1829,  0.1785, -0.0306]]]])\n",
      "'conv1.'\n",
      "tensor([[[[ 0.0669, -0.1996, -0.0888],\n",
      "          [ 0.1677, -0.0805, -0.1890],\n",
      "          [-0.1285,  0.0762,  0.0426]],\n",
      "\n",
      "         [[ 0.0108, -0.0321, -0.0566],\n",
      "          [ 0.2042,  0.0327, -0.0026],\n",
      "          [-0.1217,  0.0770,  0.0827]]],\n",
      "\n",
      "\n",
      "        [[[-0.1133,  0.0057, -0.0118],\n",
      "          [-0.1225,  0.0491, -0.2098],\n",
      "          [ 0.0544, -0.1094,  0.0069]],\n",
      "\n",
      "         [[-0.0724,  0.1436,  0.0165],\n",
      "          [ 0.2082, -0.0831, -0.1493],\n",
      "          [ 0.0765,  0.1909, -0.0822]]],\n",
      "\n",
      "\n",
      "        [[[ 0.0318, -0.1956, -0.1581],\n",
      "          [-0.1424, -0.0507,  0.1022],\n",
      "          [ 0.1567,  0.0382,  0.1566]],\n",
      "\n",
      "         [[-0.1519, -0.0828, -0.1339],\n",
      "          [ 0.0162, -0.0073,  0.0897],\n",
      "          [ 0.1577, -0.1115,  0.2239]]]])\n"
     ]
    }
   ],
   "source": [
    "#loop through modelLayers and print weights before zeroing neurons\n",
    "for layer_name, weights, biases in modelLayers:\n",
    "    pprint.pprint(layer_name)\n",
    "    pprint.pprint(weights)"
   ]
  },
  {
   "cell_type": "code",
   "execution_count": 1,
   "metadata": {},
   "outputs": [
    {
     "ename": "NameError",
     "evalue": "name 'zeroListOfWeightIndexes' is not defined",
     "output_type": "error",
     "traceback": [
      "\u001b[0;31m---------------------------------------------------------------------------\u001b[0m",
      "\u001b[0;31mNameError\u001b[0m                                 Traceback (most recent call last)",
      "\u001b[0;32m<ipython-input-1-8d6f108c689a>\u001b[0m in \u001b[0;36m<module>\u001b[0;34m\u001b[0m\n\u001b[1;32m     10\u001b[0m \u001b[0;34m\u001b[0m\u001b[0m\n\u001b[1;32m     11\u001b[0m \u001b[0;31m#zero neurons\u001b[0m\u001b[0;34m\u001b[0m\u001b[0;34m\u001b[0m\u001b[0m\n\u001b[0;32m---> 12\u001b[0;31m \u001b[0mzeroListOfWeightIndexes\u001b[0m\u001b[0;34m(\u001b[0m\u001b[0mlist_of_weight_indexes\u001b[0m\u001b[0;34m,\u001b[0m \u001b[0mmodelLayers\u001b[0m\u001b[0;34m)\u001b[0m\u001b[0;34m\u001b[0m\u001b[0m\n\u001b[0m\u001b[1;32m     13\u001b[0m \u001b[0;34m\u001b[0m\u001b[0m\n\u001b[1;32m     14\u001b[0m \u001b[0;31m#loop through the updated modelLayers\u001b[0m\u001b[0;34m\u001b[0m\u001b[0;34m\u001b[0m\u001b[0m\n",
      "\u001b[0;31mNameError\u001b[0m: name 'zeroListOfWeightIndexes' is not defined"
     ]
    }
   ],
   "source": [
    "#example list format for input to zeroListOfWeightIndexes\n",
    "list_of_weight_indexes =[\n",
    "                            #at index [0][1] (the weights at layer 0) of modelLayers, zero neurons at index 0,1,4\n",
    "                            [0, 1, [0, 1, 4]], \n",
    "                            #at index [1][1] of modelLayers, zero neurons at index 2\n",
    "                            [1, 1, [2]],\n",
    "                            #at index [2][1] of modelLayers, zero neurons at index 0\n",
    "                            [2, 1, [0]]\n",
    "                        ]\n",
    "\n",
    "#zero neurons\n",
    "zeroListOfWeightIndexes(list_of_weight_indexes, modelLayers)\n",
    "\n",
    "#loop through the updated modelLayers\n",
    "for layer_name, weights, biases in modelLayers:\n",
    "    pprint.pprint(layer_name)\n",
    "    pprint.pprint(weights)\n",
    "        "
   ]
  },
  {
   "cell_type": "code",
   "execution_count": null,
   "metadata": {},
   "outputs": [],
   "source": [
    "#as shown above the neurons have been correctly zeroed"
   ]
  }
 ],
 "metadata": {
  "kernelspec": {
   "display_name": "Python 3",
   "language": "python",
   "name": "python3"
  },
  "language_info": {
   "codemirror_mode": {
    "name": "ipython",
    "version": 3
   },
   "file_extension": ".py",
   "mimetype": "text/x-python",
   "name": "python",
   "nbconvert_exporter": "python",
   "pygments_lexer": "ipython3",
   "version": "3.6.6"
  }
 },
 "nbformat": 4,
 "nbformat_minor": 2
}
